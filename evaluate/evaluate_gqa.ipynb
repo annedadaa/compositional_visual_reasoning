{
 "cells": [
  {
   "cell_type": "markdown",
   "metadata": {},
   "source": [
    "## This notebook evaluates the GQA dataset outputs."
   ]
  },
  {
   "cell_type": "code",
   "execution_count": 1,
   "metadata": {},
   "outputs": [
    {
     "name": "stderr",
     "output_type": "stream",
     "text": [
      "c:\\Users\\User\\AppData\\Local\\Programs\\Python\\Python313\\Lib\\site-packages\\tqdm\\auto.py:21: TqdmWarning: IProgress not found. Please update jupyter and ipywidgets. See https://ipywidgets.readthedocs.io/en/stable/user_install.html\n",
      "  from .autonotebook import tqdm as notebook_tqdm\n"
     ]
    }
   ],
   "source": [
    "import pandas as pd\n",
    "import evaluate"
   ]
  },
  {
   "cell_type": "code",
   "execution_count": 2,
   "metadata": {},
   "outputs": [],
   "source": [
    "model_outputs = pd.read_csv(\"results_7_GQA_Final.csv\")\n",
    "gold_answers = pd.read_csv(\"gqa_goldstandard.csv\")"
   ]
  },
  {
   "cell_type": "code",
   "execution_count": 3,
   "metadata": {},
   "outputs": [
    {
     "name": "stdout",
     "output_type": "stream",
     "text": [
      "Index(['result', 'answer', 'code', 'id', 'query', 'img_path',\n",
      "       'possible_answers'],\n",
      "      dtype='object')\n"
     ]
    }
   ],
   "source": [
    "print(model_outputs.columns)"
   ]
  },
  {
   "cell_type": "code",
   "execution_count": 4,
   "metadata": {},
   "outputs": [],
   "source": [
    "model_responses = model_outputs['result']"
   ]
  },
  {
   "cell_type": "code",
   "execution_count": 5,
   "metadata": {},
   "outputs": [
    {
     "name": "stdout",
     "output_type": "stream",
     "text": [
      "Index(['question', 'fullAnswer', 'image_name', 'answer'], dtype='object')\n",
      "                    question         fullAnswer image_name  answer\n",
      "0  What is this bird called?  This is a parrot.  gqa-0.jpg  parrot\n"
     ]
    }
   ],
   "source": [
    "print(gold_answers.columns)\n",
    "print(gold_answers.head(1))"
   ]
  },
  {
   "cell_type": "code",
   "execution_count": 6,
   "metadata": {},
   "outputs": [],
   "source": [
    "gold_answers['result'] = model_responses"
   ]
  },
  {
   "cell_type": "code",
   "execution_count": 8,
   "metadata": {},
   "outputs": [
    {
     "name": "stdout",
     "output_type": "stream",
     "text": [
      "Index(['question', 'fullAnswer', 'image_name', 'answer', 'result'], dtype='object')\n"
     ]
    }
   ],
   "source": [
    "print(gold_answers.columns)"
   ]
  },
  {
   "cell_type": "code",
   "execution_count": 18,
   "metadata": {},
   "outputs": [
    {
     "name": "stdout",
     "output_type": "stream",
     "text": [
      "                                            question  \\\n",
      "0                          What is this bird called?   \n",
      "1  What color is the helmet in the middle of the ...   \n",
      "2                Is it an indoors or outdoors scene?   \n",
      "3  Are there napkins under the utensil to the lef...   \n",
      "4           Which side of the photo is the knife on?   \n",
      "\n",
      "                                  fullAnswer image_name      answer  \\\n",
      "0                          This is a parrot.  gqa-0.jpg      parrot   \n",
      "1                  The helmet is light blue.  gqa-1.jpg  light blue   \n",
      "2                             It is indoors.  gqa-2.jpg     indoors   \n",
      "3  Yes, there is a napkin under the utensil.  gqa-3.jpg         yes   \n",
      "4     The knife is on the left of the image.  gqa-4.jpg        left   \n",
      "\n",
      "                                              result  \n",
      "0                                                NaN  \n",
      "1                                                NaN  \n",
      "2  Question: is this indoors or outdoors? Short a...  \n",
      "3                                                yes  \n",
      "4                                                NaN  \n"
     ]
    }
   ],
   "source": [
    "print(gold_answers.head())"
   ]
  },
  {
   "cell_type": "code",
   "execution_count": 27,
   "metadata": {},
   "outputs": [],
   "source": [
    "def simple_accuracy(gqa_dataset):\n",
    "    correct_instances = 0\n",
    "    incorrect_instances = 0\n",
    "    none_answers = gqa_dataset['result'].isnull().sum()\n",
    "    for index, row in gqa_dataset.iterrows():\n",
    "        if row['answer'] == row['result'] or row['fullAnswer'] == row['result']:\n",
    "            correct_instances += 1\n",
    "        else:\n",
    "            incorrect_instances += 1\n",
    "    acc = correct_instances/incorrect_instances\n",
    "    print(\"Accuracy:\", acc)\n",
    "    print(\"None responses:\", none_answers)"
   ]
  },
  {
   "cell_type": "code",
   "execution_count": 33,
   "metadata": {},
   "outputs": [],
   "source": [
    "def accuracy_without_none(gqa_dataset):\n",
    "    total_instances = 0\n",
    "    correct_instances = 0\n",
    "    incorrect_instances = 0\n",
    "    for index, row in gqa_dataset.iterrows():\n",
    "        if row['result'] == \"\" or row['result'] == None or pd.isna(row['result']):\n",
    "            pass\n",
    "        else:\n",
    "            total_instances += 1\n",
    "            if row['answer'] == row['result'] or row['fullAnswer'] == row['result']:\n",
    "                correct_instances += 1\n",
    "            else:\n",
    "                incorrect_instances += 1\n",
    "    acc = correct_instances/incorrect_instances\n",
    "    print(\"Total number of actually generated responses:\", total_instances)\n",
    "    print(\"Accuracy:\", acc)"
   ]
  },
  {
   "cell_type": "code",
   "execution_count": 34,
   "metadata": {},
   "outputs": [
    {
     "name": "stdout",
     "output_type": "stream",
     "text": [
      "Accuracy: 0.29701686121919585\n",
      "None responses: 361\n",
      "Total number of actually generated responses: 639\n",
      "Accuracy: 0.5585365853658537\n"
     ]
    }
   ],
   "source": [
    "simple_accuracy(gold_answers)\n",
    "accuracy_without_none(gold_answers)"
   ]
  }
 ],
 "metadata": {
  "kernelspec": {
   "display_name": "Python 3",
   "language": "python",
   "name": "python3"
  },
  "language_info": {
   "codemirror_mode": {
    "name": "ipython",
    "version": 3
   },
   "file_extension": ".py",
   "mimetype": "text/x-python",
   "name": "python",
   "nbconvert_exporter": "python",
   "pygments_lexer": "ipython3",
   "version": "3.13.1"
  }
 },
 "nbformat": 4,
 "nbformat_minor": 2
}
