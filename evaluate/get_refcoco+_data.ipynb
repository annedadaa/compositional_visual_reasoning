{
 "cells": [
  {
   "cell_type": "code",
   "execution_count": 1,
   "metadata": {},
   "outputs": [
    {
     "name": "stderr",
     "output_type": "stream",
     "text": [
      "c:\\Users\\User\\AppData\\Local\\Programs\\Python\\Python313\\Lib\\site-packages\\tqdm\\auto.py:21: TqdmWarning: IProgress not found. Please update jupyter and ipywidgets. See https://ipywidgets.readthedocs.io/en/stable/user_install.html\n",
      "  from .autonotebook import tqdm as notebook_tqdm\n"
     ]
    }
   ],
   "source": [
    "from datasets import load_dataset\n",
    "import matplotlib.pyplot as plt\n",
    "from PIL import Image\n",
    "import requests\n",
    "from io import BytesIO\n",
    "from hashlib import md5\n",
    "from datasets import Dataset"
   ]
  },
  {
   "cell_type": "code",
   "execution_count": 2,
   "metadata": {},
   "outputs": [],
   "source": [
    "# Load RefCOCO+ dataset\n",
    "ds_1 = load_dataset(\"lmms-lab/RefCOCOplus\", split='val')"
   ]
  },
  {
   "cell_type": "code",
   "execution_count": 3,
   "metadata": {},
   "outputs": [
    {
     "name": "stdout",
     "output_type": "stream",
     "text": [
      "{'question_id': '1537681', 'image': <PIL.JpegImagePlugin.JpegImageFile image mode=RGB size=640x428 at 0x204FE0D3620>, 'question': 'Please carefully observe the area circled in the image and come up with a caption for the area.', 'answer': ['White bowl with vertical stripes', 'white bowl on corner', 'WHITE BOWL NEXT TO RICE'], 'segmentation': [468.29998779296875, 2.8299999237060547, 471.17999267578125, 46.0099983215332, 473.1000061035156, 83.44000244140625, 521.0900268554688, 107.43000030517578, 580.5800170898438, 117.02999877929688, 640.0, 106.47000122070312, 640.0, 104.55000305175781, 640.0, 0.9100000262260437], 'bbox': [468.29998779296875, 0.9100000262260437, 171.6999969482422, 116.12000274658203], 'iscrowd': 0, 'file_name': 'COCO_train2014_000000580957_4.jpg'}\n"
     ]
    }
   ],
   "source": [
    "print(ds_1[0])"
   ]
  },
  {
   "cell_type": "code",
   "execution_count": 3,
   "metadata": {},
   "outputs": [],
   "source": [
    "location_words = ['next to', 'right', 'left', 'under', 'below', 'above', 'in', 'against', 'by', 'beside', 'near', 'from']"
   ]
  },
  {
   "cell_type": "code",
   "execution_count": 4,
   "metadata": {},
   "outputs": [],
   "source": [
    "# Allow only items with unique images and select 1000 of them\n",
    "def filter_examples(dataset):\n",
    "    unique_images = set()\n",
    "    filtered_items = []\n",
    "\n",
    "    for item in dataset:\n",
    "        # Hash the image bytes directly\n",
    "        img_hash = md5(item['image'].tobytes()).hexdigest()\n",
    "        \n",
    "        if img_hash not in unique_images:\n",
    "            # Filter out answers that have location words in them\n",
    "            item['allanswers'] = item['answer']\n",
    "            answers = item['answer']\n",
    "            result = next(\n",
    "            (s for s in answers if all(word not in s.lower() for word in location_words) and len(s.split()) > 1),\n",
    "            None  # Default value if none found \n",
    "            )\n",
    "            if result:\n",
    "                item['answer'] = result\n",
    "                unique_images.add(img_hash)\n",
    "                filtered_items.append(item)\n",
    "            \n",
    "        if len(filtered_items) == 1000:\n",
    "            break\n",
    "    return filtered_items"
   ]
  },
  {
   "cell_type": "code",
   "execution_count": 5,
   "metadata": {},
   "outputs": [],
   "source": [
    "unique_dataset = filter_examples(ds_1)"
   ]
  },
  {
   "cell_type": "code",
   "execution_count": 6,
   "metadata": {},
   "outputs": [
    {
     "name": "stdout",
     "output_type": "stream",
     "text": [
      "[{'question_id': '1537681', 'image': <PIL.JpegImagePlugin.JpegImageFile image mode=RGB size=640x428 at 0x203C6E4B770>, 'question': 'Please carefully observe the area circled in the image and come up with a caption for the area.', 'answer': 'White bowl with vertical stripes', 'segmentation': [468.29998779296875, 2.8299999237060547, 471.17999267578125, 46.0099983215332, 473.1000061035156, 83.44000244140625, 521.0900268554688, 107.43000030517578, 580.5800170898438, 117.02999877929688, 640.0, 106.47000122070312, 640.0, 104.55000305175781, 640.0, 0.9100000262260437], 'bbox': [468.29998779296875, 0.9100000262260437, 171.6999969482422, 116.12000274658203], 'iscrowd': 0, 'file_name': 'COCO_train2014_000000580957_4.jpg', 'allanswers': ['White bowl with vertical stripes', 'white bowl on corner', 'WHITE BOWL NEXT TO RICE']}, {'question_id': '469475', 'image': <PIL.JpegImagePlugin.JpegImageFile image mode=RGB size=640x481 at 0x203C6F7C180>, 'question': 'Please carefully observe the area circled in the image and come up with a caption for the area.', 'answer': 'older lady', 'segmentation': [305.8900146484375, 114.58000183105469, 340.4800109863281, 139.44000244140625, 367.510009765625, 148.0800018310547, 406.4200134277344, 167.5399932861328, 433.44000244140625, 169.6999969482422, 431.2799987792969, 159.97000122070312, 428.0400085449219, 137.27000427246094, 433.44000244140625, 115.66000366210938, 449.6499938964844, 110.25, 477.760009765625, 110.25, 502.6199951171875, 121.05999755859375, 502.6199951171875, 138.36000061035156, 504.7799987792969, 157.80999755859375, 528.5599975585938, 174.02000427246094, 562.0700073242188, 223.75, 580.4400024414062, 255.08999633789062, 571.7999877929688, 283.20001220703125, 568.5499877929688, 305.8900146484375, 555.5800170898438, 335.0799865722656, 552.3400268554688, 376.1499938964844, 544.77001953125, 419.3900146484375, 550.1799926757812, 469.1099853515625, 550.1799926757812, 470.19000244140625, 512.3499755859375, 475.6000061035156, 508.0199890136719, 434.5199890136719, 505.8599853515625, 411.82000732421875, 501.5400085449219, 378.30999755859375, 492.8900146484375, 431.2799987792969, 493.9700012207031, 469.1099853515625, 493.9700012207031, 475.6000061035156, 457.2200012207031, 474.510009765625, 451.82000732421875, 446.4100036621094, 449.6499938964844, 413.9800109863281, 450.7300109863281, 386.9599914550781, 452.8999938964844, 354.5299987792969, 453.9800109863281, 322.1099853515625, 444.25, 305.8900146484375, 447.489990234375, 273.4700012207031, 447.489990234375, 245.36000061035156, 441.010009765625, 214.02000427246094, 336.1600036621094, 168.6199951171875, 312.3800048828125, 152.41000366210938, 289.67999267578125, 143.75999450683594, 290.760009765625, 125.37999725341797, 294.0, 114.58000183105469], 'bbox': [289.67999267578125, 110.25, 290.760009765625, 365.3500061035156], 'iscrowd': 0, 'file_name': 'COCO_train2014_000000580905_1.jpg', 'allanswers': ['adult', 'older lady', 'woman']}, {'question_id': '1741008', 'image': <PIL.JpegImagePlugin.JpegImageFile image mode=RGB size=427x640 at 0x203C6F7C050>, 'question': 'Please carefully observe the area circled in the image and come up with a caption for the area.', 'answer': 'The kid', 'segmentation': [161.5800018310547, 487.1300048828125, 198.02000427246094, 458.6099853515625, 210.69000244140625, 406.3399963378906, 262.9700012207031, 387.3299865722656, 270.8900146484375, 338.2200012207031, 248.7100067138672, 317.6199951171875, 250.3000030517578, 303.3699951171875, 258.2200012207031, 290.69000244140625, 269.30999755859375, 290.69000244140625, 266.1400146484375, 259.010009765625, 240.7899932861328, 246.33999633789062, 205.94000244140625, 265.3500061035156, 226.52999877929688, 317.6199951171875, 237.6199951171875, 312.8699951171875, 229.6999969482422, 327.1300048828125, 207.52000427246094, 349.30999755859375, 179.00999450683594, 347.7200012207031, 163.1699981689453, 338.2200012207031, 164.75, 355.6400146484375, 183.75999450683594, 368.32000732421875, 171.08999633789062, 387.3299865722656, 180.58999633789062, 409.5, 179.00999450683594, 436.44000244140625, 160.0, 472.8699951171875], 'bbox': [160.0, 246.33999633789062, 110.88999938964844, 240.7899932861328], 'iscrowd': 0, 'file_name': 'COCO_train2014_000000580785_2.jpg', 'allanswers': ['The kid', 'baby', 'kid']}, {'question_id': '190137', 'image': <PIL.JpegImagePlugin.JpegImageFile image mode=RGB size=640x427 at 0x203C6E2BA80>, 'question': 'Please carefully observe the area circled in the image and come up with a caption for the area.', 'answer': 'darker man', 'segmentation': [111.66999816894531, 51.470001220703125, 101.29000091552734, 57.849998474121094, 102.87999725341797, 77.81999969482422, 107.68000030517578, 107.37000274658203, 110.87000274658203, 128.92999267578125, 94.11000061035156, 135.30999755859375, 48.59000015258789, 151.27999877929688, 37.40999984741211, 157.6699981689453, 2.2799999713897705, 191.1999969482422, 0.0, 199.99000549316406, 3.880000114440918, 304.5899963378906, 13.449999809265137, 298.20001220703125, 28.6200008392334, 286.2300109863281, 66.1500015258789, 283.8299865722656, 78.13999938964844, 289.4200134277344, 79.7300033569336, 299.79998779296875, 122.05000305175781, 306.989990234375, 154.7899932861328, 310.9800109863281, 214.67999267578125, 334.1300048828125, 221.07000732421875, 376.4599914550781, 246.6199951171875, 373.260009765625, 237.8300018310547, 294.2200012207031, 244.22999572753906, 277.44000244140625, 318.489990234375, 260.6700134277344, 317.69000244140625, 240.7100067138672, 300.9200134277344, 212.77000427246094, 285.739990234375, 201.58999633789062, 272.9700012207031, 194.39999389648438, 252.2100067138672, 180.8300018310547, 243.42999267578125, 168.0500030517578, 234.63999938964844, 161.66000366210938, 206.6999969482422, 152.0800018310547, 192.32000732421875, 143.3000030517578, 197.91000366210938, 108.16000366210938, 193.11000061035156, 86.5999984741211, 187.52999877929688, 63.439998626708984, 177.94000244140625, 47.47999954223633, 169.1699981689453, 36.29999923706055, 151.60000610351562, 32.310001373291016, 137.22000122070312, 31.510000228881836, 118.8499984741211, 39.4900016784668, 111.66999816894531, 47.47999954223633], 'bbox': [0.0, 31.510000228881836, 318.489990234375, 344.95001220703125], 'iscrowd': 0, 'file_name': 'COCO_train2014_000000580374_2.jpg', 'allanswers': ['person by glass', 'dark haired guy looking like a killer', 'darker man']}, {'question_id': '514243', 'image': <PIL.JpegImagePlugin.JpegImageFile image mode=RGB size=372x500 at 0x203C6E2BE10>, 'question': 'Please carefully observe the area circled in the image and come up with a caption for the area.', 'answer': 'tallest woman', 'segmentation': [220.22000122070312, 214.25999450683594, 284.2699890136719, 229.99000549316406, 319.1000061035156, 217.6300048828125, 321.3500061035156, 180.55999755859375, 319.1000061035156, 136.74000549316406, 330.3399963378906, 135.61000061035156, 351.69000244140625, 105.2699966430664, 351.69000244140625, 88.41999816894531, 325.8399963378906, 37.86000061035156, 319.1000061035156, 21.0, 304.489990234375, 6.400000095367432, 295.510009765625, 6.400000095367432, 288.760009765625, 18.760000228881836, 283.1499938964844, 18.760000228881836, 280.8999938964844, 25.5, 273.0299987792969, 26.6200008392334, 273.0299987792969, 15.390000343322754, 261.79998779296875, 7.519999980926514, 251.69000244140625, 31.1200008392334, 249.44000244140625, 60.33000183105469, 220.22000122070312, 95.16000366210938, 217.97999572753906, 107.5199966430664, 213.47999572753906, 129.99000549316406, 221.35000610351562, 146.85000610351562, 230.33999633789062, 172.69000244140625, 219.10000610351562, 209.77000427246094], 'bbox': [213.47999572753906, 6.400000095367432, 138.2100067138672, 223.58999633789062], 'iscrowd': 0, 'file_name': 'COCO_train2014_000000580008_2.jpg', 'allanswers': ['red shirt black jacket covering arms fully, holding wiimote at face level', 'woman with hands by her head', 'tallest woman']}]\n"
     ]
    }
   ],
   "source": [
    "print(unique_dataset[0:5])"
   ]
  },
  {
   "cell_type": "markdown",
   "metadata": {},
   "source": [
    "## This is the point where we have the matched items list, and we can manipulate it after this"
   ]
  },
  {
   "cell_type": "code",
   "execution_count": 11,
   "metadata": {},
   "outputs": [],
   "source": [
    "# Convert items to the correct format for viper and pull images in .jpg format to a separate folder\n",
    "def convert_matched_items_to_viper(items):\n",
    "    viper_items = []\n",
    "    counter = 0\n",
    "    for item in items:\n",
    "        viper_item = {\n",
    "            \"query\": item[\"question\"],\n",
    "            \"answer\": item[\"answer\"],\n",
    "            \"image_name\": \"refcoco+-\" + str(counter) + \".jpg\",\n",
    "            \"segmentation\": item[\"segmentation\"],\n",
    "            \"bbox\": item[\"bbox\"],\n",
    "            \"allanswers\": item[\"allanswers\"]\n",
    "        }\n",
    "        image = item[\"image\"]\n",
    "        #image.save(\"refcoco+_images/refcoco+-\" + str(counter) + \".jpg\")\n",
    "        viper_items.append(viper_item)\n",
    "        counter += 1\n",
    "    return viper_items"
   ]
  },
  {
   "cell_type": "code",
   "execution_count": 12,
   "metadata": {},
   "outputs": [
    {
     "name": "stderr",
     "output_type": "stream",
     "text": [
      "Creating CSV from Arrow format:   0%|          | 0/1 [00:00<?, ?ba/s]"
     ]
    },
    {
     "name": "stderr",
     "output_type": "stream",
     "text": [
      "Creating CSV from Arrow format: 100%|██████████| 1/1 [00:01<00:00,  1.85s/ba]\n"
     ]
    },
    {
     "data": {
      "text/plain": [
       "1215354"
      ]
     },
     "execution_count": 12,
     "metadata": {},
     "output_type": "execute_result"
    }
   ],
   "source": [
    "# Turn the formatted dataset into a .csv file.\n",
    "viper_items = convert_matched_items_to_viper(unique_dataset)\n",
    "\n",
    "data_dict = {key: [item[key] for item in viper_items] for key in viper_items[0].keys()}\n",
    "dataset = Dataset.from_dict(data_dict)\n",
    "dataset.to_csv(\"refcoco+_with_allanswers.csv\")"
   ]
  }
 ],
 "metadata": {
  "kernelspec": {
   "display_name": "Python 3",
   "language": "python",
   "name": "python3"
  },
  "language_info": {
   "codemirror_mode": {
    "name": "ipython",
    "version": 3
   },
   "file_extension": ".py",
   "mimetype": "text/x-python",
   "name": "python",
   "nbconvert_exporter": "python",
   "pygments_lexer": "ipython3",
   "version": "3.13.1"
  }
 },
 "nbformat": 4,
 "nbformat_minor": 2
}
