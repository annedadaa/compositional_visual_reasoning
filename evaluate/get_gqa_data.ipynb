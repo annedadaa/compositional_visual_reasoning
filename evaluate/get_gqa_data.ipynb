{
 "cells": [
  {
   "cell_type": "code",
   "execution_count": 1,
   "metadata": {},
   "outputs": [
    {
     "name": "stderr",
     "output_type": "stream",
     "text": [
      "c:\\Users\\User\\AppData\\Local\\Programs\\Python\\Python313\\Lib\\site-packages\\tqdm\\auto.py:21: TqdmWarning: IProgress not found. Please update jupyter and ipywidgets. See https://ipywidgets.readthedocs.io/en/stable/user_install.html\n",
      "  from .autonotebook import tqdm as notebook_tqdm\n"
     ]
    }
   ],
   "source": [
    "from datasets import load_dataset\n",
    "from datasets import Dataset\n",
    "import pandas as pd"
   ]
  },
  {
   "cell_type": "code",
   "execution_count": 26,
   "metadata": {},
   "outputs": [],
   "source": [
    "dataset_images = load_dataset(\"parquet\", data_files=\"data/gqa-val-balanced-images.parquet\")\n"
   ]
  },
  {
   "cell_type": "code",
   "execution_count": 27,
   "metadata": {},
   "outputs": [],
   "source": [
    "dataset_instructions = load_dataset(\"parquet\", data_files=\"data/gqa-val-balanced-instructions.parquet\")"
   ]
  },
  {
   "cell_type": "code",
   "execution_count": 28,
   "metadata": {},
   "outputs": [
    {
     "name": "stdout",
     "output_type": "stream",
     "text": [
      "DatasetDict({\n",
      "    train: Dataset({\n",
      "        features: ['id', 'image'],\n",
      "        num_rows: 3412\n",
      "    })\n",
      "})\n"
     ]
    }
   ],
   "source": [
    "print(dataset_images)"
   ]
  },
  {
   "cell_type": "code",
   "execution_count": 29,
   "metadata": {},
   "outputs": [],
   "source": [
    "images_subset = dataset_images[\"train\"].select(range(1000))"
   ]
  },
  {
   "cell_type": "code",
   "execution_count": 30,
   "metadata": {},
   "outputs": [
    {
     "name": "stdout",
     "output_type": "stream",
     "text": [
      "Dataset({\n",
      "    features: ['id', 'image'],\n",
      "    num_rows: 1000\n",
      "})\n"
     ]
    }
   ],
   "source": [
    "print(images_subset)"
   ]
  },
  {
   "cell_type": "code",
   "execution_count": 31,
   "metadata": {},
   "outputs": [],
   "source": [
    "def get_unique_items(instructions):\n",
    "    seen_image_ids = set()\n",
    "    unique_items = []\n",
    "    for item in instructions:\n",
    "        image_id = item[\"imageId\"]\n",
    "        if image_id not in seen_image_ids:\n",
    "            seen_image_ids.add(image_id)\n",
    "            unique_items.append(item)\n",
    "    return unique_items\n"
   ]
  },
  {
   "cell_type": "code",
   "execution_count": 32,
   "metadata": {},
   "outputs": [],
   "source": [
    "instructions = dataset_instructions[\"train\"]\n",
    "unique_items = get_unique_items(instructions)"
   ]
  },
  {
   "cell_type": "code",
   "execution_count": 13,
   "metadata": {},
   "outputs": [],
   "source": [
    "def match_items(instructions, images_subset):\n",
    "    id_to_image = {item[\"id\"]: item[\"image\"] for item in images_subset}\n",
    "    matched_items = []\n",
    "    for item in instructions:\n",
    "        image_id = item[\"imageId\"]\n",
    "        if image_id in id_to_image:\n",
    "            item[\"image\"] = id_to_image[image_id]\n",
    "            matched_items.append(item)\n",
    "    return matched_items"
   ]
  },
  {
   "cell_type": "code",
   "execution_count": 23,
   "metadata": {},
   "outputs": [],
   "source": [
    "matched_items = match_items(unique_items, images_subset)"
   ]
  },
  {
   "cell_type": "code",
   "execution_count": 24,
   "metadata": {},
   "outputs": [
    {
     "name": "stdout",
     "output_type": "stream",
     "text": [
      "{'id': '12143164', 'imageId': '2352110', 'question': 'What place is pictured?', 'answer': 'shore', 'fullAnswer': 'It is a shore.', 'isBalanced': True, 'groups': {'global': 'place', 'local': '02q-place'}, 'entailed': \"['12143165']\", 'equivalent': \"['12143164']\", 'types': {'structural': 'query', 'semantic': 'global', 'detailed': 'place'}, 'annotations': {'question': [], 'answer': [], 'fullAnswer': []}, 'semantic': [{'operation': 'select', 'argument': 'scene', 'dependencies': []}, {'operation': 'query', 'argument': 'place', 'dependencies': [0]}], 'semanticStr': 'select: scene->query: place [0]', 'image': <PIL.JpegImagePlugin.JpegImageFile image mode=RGB size=500x333 at 0x1F884A1F6F0>}\n"
     ]
    }
   ],
   "source": [
    "print(matched_items[5])"
   ]
  },
  {
   "cell_type": "markdown",
   "metadata": {},
   "source": [
    "## This is the point where we have the matched items list, and we can manipulate it after this"
   ]
  },
  {
   "cell_type": "code",
   "execution_count": 44,
   "metadata": {},
   "outputs": [],
   "source": [
    "def convert_matched_items_to_viper(items):\n",
    "    viper_items = []\n",
    "    counter = 0\n",
    "    for item in items:\n",
    "        viper_item = {\n",
    "            \"query\": item[\"question\"],\n",
    "            \"answer\": item[\"fullAnswer\"],\n",
    "            \"image_name\": \"gqa-\" + str(counter) + \".jpg\"\n",
    "        }\n",
    "        image = item[\"image\"]\n",
    "        image.save(\"gqa_images/gqa-\" + str(counter) + \".jpg\")\n",
    "        viper_items.append(viper_item)\n",
    "        counter += 1\n",
    "    return viper_items"
   ]
  },
  {
   "cell_type": "code",
   "execution_count": 51,
   "metadata": {},
   "outputs": [],
   "source": [
    "viper_items = convert_matched_items_to_viper(matched_items)"
   ]
  },
  {
   "cell_type": "code",
   "execution_count": 52,
   "metadata": {},
   "outputs": [],
   "source": [
    "data_dict = {key: [item[key] for item in viper_items] for key in viper_items[0].keys()}"
   ]
  },
  {
   "cell_type": "code",
   "execution_count": 53,
   "metadata": {},
   "outputs": [],
   "source": [
    "dataset = Dataset.from_dict(data_dict)"
   ]
  },
  {
   "cell_type": "code",
   "execution_count": 54,
   "metadata": {},
   "outputs": [
    {
     "name": "stderr",
     "output_type": "stream",
     "text": [
      "Creating CSV from Arrow format: 100%|██████████| 1/1 [00:00<00:00, 65.99ba/s]\n"
     ]
    },
    {
     "data": {
      "text/plain": [
       "89323"
      ]
     },
     "execution_count": 54,
     "metadata": {},
     "output_type": "execute_result"
    }
   ],
   "source": [
    "dataset.to_csv(\"GQA.csv\")"
   ]
  },
  {
   "cell_type": "code",
   "execution_count": 12,
   "metadata": {},
   "outputs": [
    {
     "name": "stdout",
     "output_type": "stream",
     "text": [
      "DatasetDict({\n",
      "    train: Dataset({\n",
      "        features: ['id', 'imageId', 'question', 'isBalanced'],\n",
      "        num_rows: 50726\n",
      "    })\n",
      "})\n"
     ]
    }
   ],
   "source": [
    "print(dataset_instructions)"
   ]
  },
  {
   "cell_type": "markdown",
   "metadata": {},
   "source": [
    "### This is the part where I get the short answers from the GQA dataset"
   ]
  },
  {
   "cell_type": "code",
   "execution_count": 73,
   "metadata": {},
   "outputs": [],
   "source": [
    "def get_short_answers(gqa,instructions):\n",
    "    gqa_df = pd.read_csv(gqa)\n",
    "    gqa_df = gqa_df.rename(columns={'answer': 'fullAnswer'})\n",
    "    gqa_df = gqa_df.rename(columns={'query': 'question'})\n",
    "    dataset_instructions = load_dataset(\"parquet\", data_files=\"gqa-val-balanced-instructions.parquet\")['train']\n",
    "    dataset_instructions = dataset_instructions.to_pandas()\n",
    "    # Merge DataFrames based on matching 'question' and 'fullAnswer'\n",
    "    merged_df = gqa_df.merge(\n",
    "        dataset_instructions[['question', 'fullAnswer', 'answer']],\n",
    "        on=['question', 'fullAnswer'],\n",
    "        how='left'\n",
    "    )\n",
    "    merged_df = merged_df.drop_duplicates()\n",
    "    # Write result to CSV\n",
    "    merged_df.to_csv(\"gqa_fixed.csv\", index=False)"
   ]
  },
  {
   "cell_type": "code",
   "execution_count": 74,
   "metadata": {},
   "outputs": [],
   "source": [
    "get_short_answers(\"GQA/GQA.csv\", \"gqa-val-balanced-instructions.parquet\")"
   ]
  }
 ],
 "metadata": {
  "kernelspec": {
   "display_name": "Python 3",
   "language": "python",
   "name": "python3"
  },
  "language_info": {
   "codemirror_mode": {
    "name": "ipython",
    "version": 3
   },
   "file_extension": ".py",
   "mimetype": "text/x-python",
   "name": "python",
   "nbconvert_exporter": "python",
   "pygments_lexer": "ipython3",
   "version": "3.13.1"
  }
 },
 "nbformat": 4,
 "nbformat_minor": 2
}
